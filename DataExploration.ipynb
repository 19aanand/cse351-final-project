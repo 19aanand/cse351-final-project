{
 "cells": [
  {
   "cell_type": "code",
   "execution_count": 1,
   "metadata": {},
   "outputs": [],
   "source": [
    "import pandas as pd"
   ]
  },
  {
   "cell_type": "code",
   "execution_count": 3,
   "metadata": {},
   "outputs": [],
   "source": [
    "fifteenData = pd.read_csv(\"world_happiness/2015.csv\")\n",
    "sixteenData = pd.read_csv(\"world_happiness/2015.csv\")\n",
    "fifteenData = pd.read_csv(\"world_happiness/2015.csv\")\n",
    "fifteenData = pd.read_csv(\"world_happiness/2015.csv\")\n",
    "fifteenData = pd.read_csv(\"world_happiness/2015.csv\")\n"
   ]
  },
  {
   "cell_type": "code",
   "execution_count": null,
   "metadata": {},
   "outputs": [],
   "source": []
  }
 ],
 "metadata": {
  "kernelspec": {
   "display_name": "Python 3.8.2 64-bit",
   "language": "python",
   "name": "python38264bit13a41b7affd14c7793a6c81cea018ac0"
  },
  "language_info": {
   "codemirror_mode": {
    "name": "ipython",
    "version": 3
   },
   "file_extension": ".py",
   "mimetype": "text/x-python",
   "name": "python",
   "nbconvert_exporter": "python",
   "pygments_lexer": "ipython3",
   "version": "3.8.2"
  }
 },
 "nbformat": 4,
 "nbformat_minor": 2
}
